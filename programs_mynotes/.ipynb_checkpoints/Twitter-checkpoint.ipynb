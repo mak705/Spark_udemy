{
 "cells": [
  {
   "cell_type": "code",
   "execution_count": 1,
   "metadata": {},
   "outputs": [],
   "source": [
    "#Apps.twitter.com #sign #create a New app\n",
    "#Give the details\n",
    "#creat an access token\n",
    " #Consumer Key (API Key) fS7nf8Ln98ZD2bloPEBaYltdO\n",
    "#Consumer Secret (API Secret) SVaVYSh6WwJ6NOTnQeRQC5wJ7U11gzZ4o4QjpKfhztU088T2a8 \n",
    "\n",
    " #Access Token 778022415720849408-WUdWoI64mVsnzZRVmPM9yrDE8NbW2XY\n",
    "#Access Token Secret UInkdhklQpVwhCZDkBhQZP6DjfnTWBlsdDZFv3T3nW4ZX \n",
    "#mak@mak-Aspire-A515-51G:~$ pip3 install tweepy\n",
    "#matplotlib, seaborn"
   ]
  },
  {
   "cell_type": "code",
   "execution_count": null,
   "metadata": {},
   "outputs": [],
   "source": []
  }
 ],
 "metadata": {
  "kernelspec": {
   "display_name": "Python 3",
   "language": "python",
   "name": "python3"
  },
  "language_info": {
   "codemirror_mode": {
    "name": "ipython",
    "version": 3
   },
   "file_extension": ".py",
   "mimetype": "text/x-python",
   "name": "python",
   "nbconvert_exporter": "python",
   "pygments_lexer": "ipython3",
   "version": "3.6.4"
  }
 },
 "nbformat": 4,
 "nbformat_minor": 2
}
