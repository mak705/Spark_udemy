{
 "cells": [
  {
   "cell_type": "code",
   "execution_count": null,
   "metadata": {},
   "outputs": [],
   "source": [
    "#Apps.twitter.com #sign #create a New app\n",
    "#Give the details\n",
    "#creat an access token\n",
    " #Consumer Key (API Key) fXXXXXXXEBaYltdO\n",
    "#Consumer Secret (API Secret) SVXXXXJ7U11gzZ4o4QjpKfhztU088T2a8 \n",
    "\n",
    " #Access Token 778022415720849408-WUdWoI64XXXXXXXrDE8NbW2XY\n",
    "#Access Token Secret UInkdhklQpVwhCZDkBhQZPXXXDZFv3T3nW4ZX \n",
    "#mak@mak-Aspire-A515-51G:~$ pip3 install tweepy\n",
    "#matplotlib, seaborn"
   ]
  },
  {
   "cell_type": "code",
   "execution_count": null,
   "metadata": {},
   "outputs": [],
   "source": [
    "import tweepy"
   ]
  },
  {
   "cell_type": "code",
   "execution_count": null,
   "metadata": {},
   "outputs": [],
   "source": [
    "from tweepy import OAuthHandler,Stream"
   ]
  },
  {
   "cell_type": "code",
   "execution_count": null,
   "metadata": {},
   "outputs": [],
   "source": [
    "from tweepy.streaming import StreamListener"
   ]
  },
  {
   "cell_type": "code",
   "execution_count": null,
   "metadata": {},
   "outputs": [],
   "source": [
    "import socket\n",
    "import json"
   ]
  },
  {
   "cell_type": "code",
   "execution_count": null,
   "metadata": {},
   "outputs": [],
   "source": [
    "consumer_key='XXXXX'\n",
    "consumer_secret= 'XXXX'\n",
    "access_key='778022415720849408-XX'\n",
    "access_token='XXXX'"
   ]
  },
  {
   "cell_type": "code",
   "execution_count": null,
   "metadata": {},
   "outputs": [],
   "source": [
    "class TweetListener(StreamListener):\n",
    "    def __init__(self,csocket):\n",
    "        self.client_socket = csocket\n",
    "    \n",
    "    def on_data(self,data):\n",
    "        try:\n",
    "            msg = json.loads(data)\n",
    "            print (msg['text'],encode('utf-8'))\n",
    "            self.client_socket(msg['text'],encode('utf-8'))\n",
    "        except BaseException as e:\n",
    "            print ('Error', e)\n",
    "        return True\n",
    "    \n",
    "    def on_error(self,status):\n",
    "        print (status)\n",
    "        return True\n",
    "    "
   ]
  },
  {
   "cell_type": "code",
   "execution_count": null,
   "metadata": {},
   "outputs": [],
   "source": [
    "def senddata(c_socket):\n",
    "    auth = OAuthHandler(consumer_key,consumer_secret)\n",
    "    auth.set_access_token(access_key,access_token)\n",
    "    twitter_stream = Stream(auth, TweetListener)\n",
    "    twitter_stream.filter(track=['guitar'])"
   ]
  },
  {
   "cell_type": "code",
   "execution_count": null,
   "metadata": {},
   "outputs": [],
   "source": [
    "if __name__ == '__main__':\n",
    "    s = socket.socket()\n",
    "    host = '127.0.0.1'\n",
    "    port = 7654\n",
    "    s.bind((host,port))\n",
    "    \n",
    "    print ('listenting of ports 7654')\n",
    "    s.listen(5)\n",
    "    c,addr = s.accept()\n",
    "    senddata(c)"
   ]
  },
  {
   "cell_type": "code",
   "execution_count": null,
   "metadata": {},
   "outputs": [],
   "source": []
  }
 ],
 "metadata": {
  "kernelspec": {
   "display_name": "Python 3",
   "language": "python",
   "name": "python3"
  },
  "language_info": {
   "codemirror_mode": {
    "name": "ipython",
    "version": 3
   },
   "file_extension": ".py",
   "mimetype": "text/x-python",
   "name": "python",
   "nbconvert_exporter": "python",
   "pygments_lexer": "ipython3",
   "version": "3.6.4"
  }
 },
 "nbformat": 4,
 "nbformat_minor": 2
}
